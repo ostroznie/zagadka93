{
 "cells": [
  {
   "cell_type": "code",
   "execution_count": 93,
   "metadata": {},
   "outputs": [],
   "source": [
    "import ipywidgets as widgets\n",
    "import networkx as nx\n",
    "import matplotlib.pyplot as plt\n",
    "import numpy as np\n",
    "from IPython.display import clear_output\n",
    "from IPython.display import display\n",
    "%matplotlib inline\n",
    "\n",
    "def create_graph(arg):\n",
    "    values = list(range(arg))\n",
    "    nodes = []\n",
    "    for i in values:\n",
    "        choice = list(values)\n",
    "        choice.pop(i)\n",
    "        choosen = np.random.choice(choice, 1)\n",
    "        nodes.append((i,choosen[0]))\n",
    "    return nodes\n",
    "\n",
    "\n",
    "def btn_eventhandler(arg):\n",
    "    G = nx.DiGraph()\n",
    "    nodes = create_graph(slider.value)\n",
    "    G.add_edges_from(nodes)\n",
    "    fig, ax = plt.subplots(1, 1, figsize=(12, 10));\n",
    "    nx.draw_networkx(G, ax=ax)\n",
    "\n",
    "def btnclr_eventhandler(arg):\n",
    "    clear_output()\n",
    "    display_widgets()"
   ]
  },
  {
   "cell_type": "code",
   "execution_count": 94,
   "metadata": {},
   "outputs": [
    {
     "data": {
      "application/vnd.jupyter.widget-view+json": {
       "model_id": "c183aed4eef047028b258458c7f534e7",
       "version_major": 2,
       "version_minor": 0
      },
      "text/plain": [
       "IntSlider(value=14, description='Ilosc osob:')"
      ]
     },
     "metadata": {},
     "output_type": "display_data"
    },
    {
     "data": {
      "application/vnd.jupyter.widget-view+json": {
       "model_id": "539763261e7d494698c8e28fe2729e7a",
       "version_major": 2,
       "version_minor": 0
      },
      "text/plain": [
       "Button(description='Symulacja', style=ButtonStyle())"
      ]
     },
     "metadata": {},
     "output_type": "display_data"
    },
    {
     "data": {
      "application/vnd.jupyter.widget-view+json": {
       "model_id": "e1d8c96db7f2484fa16cca0af90381ff",
       "version_major": 2,
       "version_minor": 0
      },
      "text/plain": [
       "Button(description='Wyczysc', style=ButtonStyle())"
      ]
     },
     "metadata": {},
     "output_type": "display_data"
    }
   ],
   "source": [
    "slider = widgets.IntSlider(\n",
    "    min=0,\n",
    "    max=100,\n",
    "    step=1,\n",
    "    description='Ilosc osob:',\n",
    "    value=10\n",
    ")\n",
    "\n",
    "btn = widgets.Button(description='Symulacja')\n",
    "btnclr = widgets.Button(description='Wyczysc')\n",
    "\n",
    "def display_widgets():\n",
    "    display(slider)\n",
    "    display(btn)\n",
    "    display(btnclr)\n",
    "    \n",
    "btn.on_click(btn_eventhandler)\n",
    "btnclr.on_click(btnclr_eventhandler)\n",
    "display_widgets()"
   ]
  }
 ],
 "metadata": {
  "kernelspec": {
   "display_name": "Python 3",
   "language": "python",
   "name": "python3"
  },
  "language_info": {
   "codemirror_mode": {
    "name": "ipython",
    "version": 3
   },
   "file_extension": ".py",
   "mimetype": "text/x-python",
   "name": "python",
   "nbconvert_exporter": "python",
   "pygments_lexer": "ipython3",
   "version": "3.6.5"
  },
  "widgets": {
   "application/vnd.jupyter.widget-state+json": {
    "state": {
     "00c363ce63ae447bb940bdbcf05d71f6": {
      "model_module": "@jupyter-widgets/base",
      "model_module_version": "1.2.0",
      "model_name": "LayoutModel",
      "state": {}
     },
     "0113e51d622d41abbef77803af88ffa7": {
      "model_module": "@jupyter-widgets/controls",
      "model_module_version": "1.5.0",
      "model_name": "ButtonModel",
      "state": {
       "description": "Symulacja",
       "layout": "IPY_MODEL_c696b1791379430a828eb0f3e7b23abe",
       "style": "IPY_MODEL_f61d7ad05b054b5485391e96b3fc3212"
      }
     },
     "0150ccc0c9c14224990f960fa9c026a4": {
      "model_module": "@jupyter-widgets/controls",
      "model_module_version": "1.5.0",
      "model_name": "ButtonModel",
      "state": {
       "description": "Wyczysc",
       "layout": "IPY_MODEL_4b964cbeadc548578e06ea4ca0a6f325",
       "style": "IPY_MODEL_5cd12abfc8254f298386e3bba18414ea"
      }
     },
     "037cd3f8947f4fbdabbaea1afa715ce9": {
      "model_module": "@jupyter-widgets/base",
      "model_module_version": "1.2.0",
      "model_name": "LayoutModel",
      "state": {}
     },
     "04f855a07cc34fbcb839a86a7eab19a8": {
      "model_module": "@jupyter-widgets/controls",
      "model_module_version": "1.5.0",
      "model_name": "ButtonModel",
      "state": {
       "description": "Wyczysc",
       "layout": "IPY_MODEL_afe986e4b09e4d7ab4cf16e1611747e2",
       "style": "IPY_MODEL_447ff115ae394ac29104bded95145028"
      }
     },
     "0675e79f0342400b8e1483f1b59b4e0a": {
      "model_module": "@jupyter-widgets/controls",
      "model_module_version": "1.5.0",
      "model_name": "ButtonStyleModel",
      "state": {}
     },
     "07c9634bfbdd40e681ad02cf621fcd82": {
      "model_module": "@jupyter-widgets/base",
      "model_module_version": "1.2.0",
      "model_name": "LayoutModel",
      "state": {}
     },
     "0851d5bcbcb64942bcb490a11a0dce71": {
      "model_module": "@jupyter-widgets/controls",
      "model_module_version": "1.5.0",
      "model_name": "IntSliderModel",
      "state": {
       "description": "Ilosc osob:",
       "layout": "IPY_MODEL_67b8f9ca254b443aa5680c360857072b",
       "style": "IPY_MODEL_7ff18fa1931c4eca99426341cc3da738",
       "value": 10
      }
     },
     "0869730df5814e3bb9ef99f96786d749": {
      "model_module": "@jupyter-widgets/base",
      "model_module_version": "1.2.0",
      "model_name": "LayoutModel",
      "state": {}
     },
     "08b51799d968403fb470aead3805f95b": {
      "model_module": "@jupyter-widgets/controls",
      "model_module_version": "1.5.0",
      "model_name": "SliderStyleModel",
      "state": {
       "description_width": ""
      }
     },
     "099b9462bf71452bab0ddaa0134d65fd": {
      "model_module": "@jupyter-widgets/controls",
      "model_module_version": "1.5.0",
      "model_name": "SliderStyleModel",
      "state": {
       "description_width": ""
      }
     },
     "0c464ae6ce6e45aeb1333437d00be023": {
      "model_module": "@jupyter-widgets/controls",
      "model_module_version": "1.5.0",
      "model_name": "ButtonStyleModel",
      "state": {}
     },
     "0c55b152f3ad44db911679119178529b": {
      "model_module": "@jupyter-widgets/base",
      "model_module_version": "1.2.0",
      "model_name": "LayoutModel",
      "state": {}
     },
     "0da8b2736d5941fdb6ce91a25a7614c8": {
      "model_module": "@jupyter-widgets/controls",
      "model_module_version": "1.5.0",
      "model_name": "SliderStyleModel",
      "state": {
       "description_width": ""
      }
     },
     "0fa5ef7daa704ba8b5dac71aa87defbb": {
      "model_module": "@jupyter-widgets/base",
      "model_module_version": "1.2.0",
      "model_name": "LayoutModel",
      "state": {}
     },
     "0fe0aa67092d48798ee303e132c482f5": {
      "model_module": "@jupyter-widgets/controls",
      "model_module_version": "1.5.0",
      "model_name": "SliderStyleModel",
      "state": {
       "description_width": ""
      }
     },
     "104c14eddbc843dc9f52cb82e1b1eacb": {
      "model_module": "@jupyter-widgets/base",
      "model_module_version": "1.2.0",
      "model_name": "LayoutModel",
      "state": {}
     },
     "1057a584732e4d84bc094dcfe91de194": {
      "model_module": "@jupyter-widgets/controls",
      "model_module_version": "1.5.0",
      "model_name": "SliderStyleModel",
      "state": {
       "description_width": ""
      }
     },
     "10a1839663be4cf2a0a91c3ca02cea33": {
      "model_module": "@jupyter-widgets/controls",
      "model_module_version": "1.5.0",
      "model_name": "IntSliderModel",
      "state": {
       "description": "Ilosc osob:",
       "layout": "IPY_MODEL_4e2618ec03a948b19e2311a736b6bb3e",
       "style": "IPY_MODEL_a9be090aab4a4d4e9a6d161dc697bcf4",
       "value": 5
      }
     },
     "10a90b8d1eab4c328e1a1471ccc8a0ab": {
      "model_module": "@jupyter-widgets/controls",
      "model_module_version": "1.5.0",
      "model_name": "ButtonModel",
      "state": {
       "description": "Wyczysc",
       "layout": "IPY_MODEL_aebf283b2fa740dbb7766c558f860f10",
       "style": "IPY_MODEL_888fd0c0d1064a71be1b4a478c01060b"
      }
     },
     "11692b506266437d9cf0a46edba7403a": {
      "model_module": "@jupyter-widgets/base",
      "model_module_version": "1.2.0",
      "model_name": "LayoutModel",
      "state": {}
     },
     "1269d0e3c0a44b8d88fdee1802fda6fa": {
      "model_module": "@jupyter-widgets/controls",
      "model_module_version": "1.5.0",
      "model_name": "SliderStyleModel",
      "state": {
       "description_width": ""
      }
     },
     "12ef1086a6af4f4caf8c7a6be36daafd": {
      "model_module": "@jupyter-widgets/base",
      "model_module_version": "1.2.0",
      "model_name": "LayoutModel",
      "state": {}
     },
     "14b80716b41a4211a52c596faf2b9f90": {
      "model_module": "@jupyter-widgets/base",
      "model_module_version": "1.2.0",
      "model_name": "LayoutModel",
      "state": {}
     },
     "15730d2a665d4367b904c280319eac5f": {
      "model_module": "@jupyter-widgets/controls",
      "model_module_version": "1.5.0",
      "model_name": "ButtonModel",
      "state": {
       "description": "Symulacja",
       "layout": "IPY_MODEL_7652610fc0fb4a1b8bb294394e4083db",
       "style": "IPY_MODEL_a209b923312a44bdb92fbc983738220d"
      }
     },
     "157ad537690443829b94b90c7fe31186": {
      "model_module": "@jupyter-widgets/base",
      "model_module_version": "1.2.0",
      "model_name": "LayoutModel",
      "state": {}
     },
     "16ea175ab60e488a901e8fd10d4c1795": {
      "model_module": "@jupyter-widgets/controls",
      "model_module_version": "1.5.0",
      "model_name": "SliderStyleModel",
      "state": {
       "description_width": ""
      }
     },
     "17a99e8537d54db0b219a0563d240a2f": {
      "model_module": "@jupyter-widgets/base",
      "model_module_version": "1.2.0",
      "model_name": "LayoutModel",
      "state": {}
     },
     "191ca55f58c44065b340f9257200fe57": {
      "model_module": "@jupyter-widgets/controls",
      "model_module_version": "1.5.0",
      "model_name": "IntSliderModel",
      "state": {
       "description": "Ilosc osob:",
       "layout": "IPY_MODEL_b218cf9998374648967232bbda376532",
       "style": "IPY_MODEL_bd36f6c430dd4b50abd115cc47c0d475",
       "value": 10
      }
     },
     "196215cb6749406faa12f4d4660ca59d": {
      "model_module": "@jupyter-widgets/base",
      "model_module_version": "1.2.0",
      "model_name": "LayoutModel",
      "state": {}
     },
     "1a0366f9e24c41ee8bc85b4c4c6b6790": {
      "model_module": "@jupyter-widgets/base",
      "model_module_version": "1.2.0",
      "model_name": "LayoutModel",
      "state": {}
     },
     "1ad37b304e00449e8a42562694f01e05": {
      "model_module": "@jupyter-widgets/base",
      "model_module_version": "1.2.0",
      "model_name": "LayoutModel",
      "state": {}
     },
     "1d3f49e1ea47483b9826f6ab5f8f8307": {
      "model_module": "@jupyter-widgets/base",
      "model_module_version": "1.2.0",
      "model_name": "LayoutModel",
      "state": {}
     },
     "1da5025854f140958ad34430e164cd91": {
      "model_module": "@jupyter-widgets/controls",
      "model_module_version": "1.5.0",
      "model_name": "ButtonModel",
      "state": {
       "description": "Wyczysc",
       "layout": "IPY_MODEL_1ad37b304e00449e8a42562694f01e05",
       "style": "IPY_MODEL_20ad45303d4e4b90af17c1055d76bd6c"
      }
     },
     "1e14b4fb04364a0c8314225463286f3e": {
      "model_module": "@jupyter-widgets/controls",
      "model_module_version": "1.5.0",
      "model_name": "ButtonModel",
      "state": {
       "description": "Symulacja",
       "layout": "IPY_MODEL_c633660a6ff54b56931c3082b04bc759",
       "style": "IPY_MODEL_76b84b8325ef425f8d8aae2b289c1284"
      }
     },
     "20639ab0fdaa4555936c87b8d4da2b94": {
      "model_module": "@jupyter-widgets/base",
      "model_module_version": "1.2.0",
      "model_name": "LayoutModel",
      "state": {}
     },
     "20ad45303d4e4b90af17c1055d76bd6c": {
      "model_module": "@jupyter-widgets/controls",
      "model_module_version": "1.5.0",
      "model_name": "ButtonStyleModel",
      "state": {}
     },
     "21a96141a7a24f12b22b0bb4cd8dfd96": {
      "model_module": "@jupyter-widgets/controls",
      "model_module_version": "1.5.0",
      "model_name": "ButtonModel",
      "state": {
       "description": "Symulacja",
       "layout": "IPY_MODEL_0fa5ef7daa704ba8b5dac71aa87defbb",
       "style": "IPY_MODEL_3f57272cd3eb49bdb474fc7403fbba88"
      }
     },
     "2248977a9b6e4b0f96f653b1468b5162": {
      "model_module": "@jupyter-widgets/controls",
      "model_module_version": "1.5.0",
      "model_name": "IntSliderModel",
      "state": {
       "description": "Ilosc osob:",
       "layout": "IPY_MODEL_f2329c186c734a9f8d1d3684885da40c",
       "style": "IPY_MODEL_531d2193572744899f1f5025a05f688b",
       "value": 63
      }
     },
     "26088d9f0ce24240b1f9c641a5382452": {
      "model_module": "@jupyter-widgets/controls",
      "model_module_version": "1.5.0",
      "model_name": "ButtonModel",
      "state": {
       "description": "Symulacja",
       "layout": "IPY_MODEL_ff265b61cde240caa10929e6069cc376",
       "style": "IPY_MODEL_2af28a9da2214f52adfee2fe8a353c5b"
      }
     },
     "2acd18dbccae4b6ca51b11f750dc2a58": {
      "model_module": "@jupyter-widgets/base",
      "model_module_version": "1.2.0",
      "model_name": "LayoutModel",
      "state": {}
     },
     "2af28a9da2214f52adfee2fe8a353c5b": {
      "model_module": "@jupyter-widgets/controls",
      "model_module_version": "1.5.0",
      "model_name": "ButtonStyleModel",
      "state": {}
     },
     "2b6facb5387843e38319a78b1b7da7da": {
      "model_module": "@jupyter-widgets/controls",
      "model_module_version": "1.5.0",
      "model_name": "ButtonStyleModel",
      "state": {}
     },
     "2bd0bf2932d0477187ad76dd94417f11": {
      "model_module": "@jupyter-widgets/controls",
      "model_module_version": "1.5.0",
      "model_name": "ButtonStyleModel",
      "state": {}
     },
     "2c727d3204e24052aa30d4cfbf31c5d1": {
      "model_module": "@jupyter-widgets/controls",
      "model_module_version": "1.5.0",
      "model_name": "ButtonModel",
      "state": {
       "description": "Symulacja",
       "layout": "IPY_MODEL_41352ca87929428b94a0b85fc811f67b",
       "style": "IPY_MODEL_fe54d43c076d42f1b27f41edb2a851f2"
      }
     },
     "2d33cf6f733f4ec38f68440adb7ca85e": {
      "model_module": "@jupyter-widgets/controls",
      "model_module_version": "1.5.0",
      "model_name": "IntSliderModel",
      "state": {
       "description": "Ilosc osob:",
       "layout": "IPY_MODEL_319b437dd51e46efaaff267fac4e846b",
       "style": "IPY_MODEL_1269d0e3c0a44b8d88fdee1802fda6fa",
       "value": 10
      }
     },
     "2daadfd91f92402c994b8b5f37ee612b": {
      "model_module": "@jupyter-widgets/base",
      "model_module_version": "1.2.0",
      "model_name": "LayoutModel",
      "state": {}
     },
     "2ec3884df1394bf5a5e6a1e669493c91": {
      "model_module": "@jupyter-widgets/controls",
      "model_module_version": "1.5.0",
      "model_name": "ButtonModel",
      "state": {
       "description": "Symulacja",
       "layout": "IPY_MODEL_f7e6d2d1fd8248b0984872198b535194",
       "style": "IPY_MODEL_3cd5d741901b4c2b9218e5a2cb6e76c0"
      }
     },
     "2f1c0ee066214f658c8b428464ab55f0": {
      "model_module": "@jupyter-widgets/controls",
      "model_module_version": "1.5.0",
      "model_name": "ButtonModel",
      "state": {
       "description": "Symulacja",
       "layout": "IPY_MODEL_a697e8acd96c453e9adef3db62916468",
       "style": "IPY_MODEL_bc5689cc8dcf4c42b130dbe4f0bffd12"
      }
     },
     "30d596f2efcc4d5fb632d6ef666477c3": {
      "model_module": "@jupyter-widgets/base",
      "model_module_version": "1.2.0",
      "model_name": "LayoutModel",
      "state": {}
     },
     "319b437dd51e46efaaff267fac4e846b": {
      "model_module": "@jupyter-widgets/base",
      "model_module_version": "1.2.0",
      "model_name": "LayoutModel",
      "state": {}
     },
     "33413d8ab5a94ad6a55a47a13f8553e6": {
      "model_module": "@jupyter-widgets/controls",
      "model_module_version": "1.5.0",
      "model_name": "IntSliderModel",
      "state": {
       "description": "Ilosc osob:",
       "layout": "IPY_MODEL_157ad537690443829b94b90c7fe31186",
       "style": "IPY_MODEL_a09f8327f13f4ec3be97a5151709b8d9",
       "value": 10
      }
     },
     "341340181cf045c59f56ac36f4bafee8": {
      "model_module": "@jupyter-widgets/controls",
      "model_module_version": "1.5.0",
      "model_name": "IntSliderModel",
      "state": {
       "description": "Ilosc osob:",
       "layout": "IPY_MODEL_1a0366f9e24c41ee8bc85b4c4c6b6790",
       "style": "IPY_MODEL_855ed84c1933429baf899b0d5b1287ef",
       "value": 10
      }
     },
     "354121b86ca34ac4a4a848e479d25caf": {
      "model_module": "@jupyter-widgets/controls",
      "model_module_version": "1.5.0",
      "model_name": "SliderStyleModel",
      "state": {
       "description_width": ""
      }
     },
     "354a5dc3f6af44d99aaff71901902bf2": {
      "model_module": "@jupyter-widgets/controls",
      "model_module_version": "1.5.0",
      "model_name": "ButtonModel",
      "state": {
       "description": "Wyczysc",
       "layout": "IPY_MODEL_994c04f5c8324b9e8ce1090046f9c0cf",
       "style": "IPY_MODEL_e07662262a714b34902589b20fffe4e1"
      }
     },
     "357413f67578430da949515636682d6b": {
      "model_module": "@jupyter-widgets/controls",
      "model_module_version": "1.5.0",
      "model_name": "ButtonStyleModel",
      "state": {}
     },
     "35eaa51b67fb4b56aceff438c3e73f67": {
      "model_module": "@jupyter-widgets/controls",
      "model_module_version": "1.5.0",
      "model_name": "SliderStyleModel",
      "state": {
       "description_width": ""
      }
     },
     "3659d9f46b894938b9d78af12b2c6a17": {
      "model_module": "@jupyter-widgets/controls",
      "model_module_version": "1.5.0",
      "model_name": "ButtonModel",
      "state": {
       "description": "Wyczysc",
       "layout": "IPY_MODEL_4f7e77e5b32145cd9bf1a98de3126bcc",
       "style": "IPY_MODEL_399b622bf9744edb96abb2de76de9c3a"
      }
     },
     "38f43af652674c26b8770cc3de7d1bb1": {
      "model_module": "@jupyter-widgets/controls",
      "model_module_version": "1.5.0",
      "model_name": "ButtonModel",
      "state": {
       "description": "Wyczysc",
       "layout": "IPY_MODEL_196215cb6749406faa12f4d4660ca59d",
       "style": "IPY_MODEL_8e0248abcf194c38b7eb7acaa576a0eb"
      }
     },
     "399b622bf9744edb96abb2de76de9c3a": {
      "model_module": "@jupyter-widgets/controls",
      "model_module_version": "1.5.0",
      "model_name": "ButtonStyleModel",
      "state": {}
     },
     "3a2a88ed184749babcbfdfd11e023050": {
      "model_module": "@jupyter-widgets/controls",
      "model_module_version": "1.5.0",
      "model_name": "ButtonStyleModel",
      "state": {}
     },
     "3a5bec8d109f45e59d0e937d3c9fcec6": {
      "model_module": "@jupyter-widgets/base",
      "model_module_version": "1.2.0",
      "model_name": "LayoutModel",
      "state": {}
     },
     "3abd185d7d604a53b4f4d32eabd0d0c2": {
      "model_module": "@jupyter-widgets/controls",
      "model_module_version": "1.5.0",
      "model_name": "IntSliderModel",
      "state": {
       "description": "Ilosc osob:",
       "layout": "IPY_MODEL_bcb9029594c64b92b1bc814eca0191e5",
       "style": "IPY_MODEL_1057a584732e4d84bc094dcfe91de194",
       "value": 10
      }
     },
     "3cd5d741901b4c2b9218e5a2cb6e76c0": {
      "model_module": "@jupyter-widgets/controls",
      "model_module_version": "1.5.0",
      "model_name": "ButtonStyleModel",
      "state": {}
     },
     "3d3e9e3c60824611bd89beed07a84aee": {
      "model_module": "@jupyter-widgets/controls",
      "model_module_version": "1.5.0",
      "model_name": "IntSliderModel",
      "state": {
       "description": "Ilosc osob:",
       "layout": "IPY_MODEL_f8f56cd3c65247709e8d29728e84be84",
       "max": 10,
       "style": "IPY_MODEL_62c74c07bad74161ad3536687c53777f",
       "value": 9
      }
     },
     "3d556f23027242b8870ef33689af21a4": {
      "model_module": "@jupyter-widgets/controls",
      "model_module_version": "1.5.0",
      "model_name": "IntSliderModel",
      "state": {
       "description": "Ilosc osob:",
       "layout": "IPY_MODEL_20639ab0fdaa4555936c87b8d4da2b94",
       "max": 10,
       "style": "IPY_MODEL_b531c342e28a4f2a8b23ddecfe0240e5",
       "value": 3
      }
     },
     "3f57272cd3eb49bdb474fc7403fbba88": {
      "model_module": "@jupyter-widgets/controls",
      "model_module_version": "1.5.0",
      "model_name": "ButtonStyleModel",
      "state": {}
     },
     "40dc50970a8d4ff3a62b8ffe9a5172e4": {
      "model_module": "@jupyter-widgets/base",
      "model_module_version": "1.2.0",
      "model_name": "LayoutModel",
      "state": {}
     },
     "41352ca87929428b94a0b85fc811f67b": {
      "model_module": "@jupyter-widgets/base",
      "model_module_version": "1.2.0",
      "model_name": "LayoutModel",
      "state": {}
     },
     "43b52d9512474886821bc91e8d2aa9eb": {
      "model_module": "@jupyter-widgets/controls",
      "model_module_version": "1.5.0",
      "model_name": "ButtonStyleModel",
      "state": {}
     },
     "43ff7c5b0f584c05a294e77ddebc2ee7": {
      "model_module": "@jupyter-widgets/controls",
      "model_module_version": "1.5.0",
      "model_name": "ButtonModel",
      "state": {
       "description": "Symulacja",
       "layout": "IPY_MODEL_9abd355bbe51417c82f77940e82459eb",
       "style": "IPY_MODEL_7d3e7664360542348a7f514561b50d0c"
      }
     },
     "4435682a810744829865cd11e6925e11": {
      "model_module": "@jupyter-widgets/controls",
      "model_module_version": "1.5.0",
      "model_name": "SliderStyleModel",
      "state": {
       "description_width": ""
      }
     },
     "447ff115ae394ac29104bded95145028": {
      "model_module": "@jupyter-widgets/controls",
      "model_module_version": "1.5.0",
      "model_name": "ButtonStyleModel",
      "state": {}
     },
     "45b559d0d5ed41fd8a32d9b4c93b11e8": {
      "model_module": "@jupyter-widgets/controls",
      "model_module_version": "1.5.0",
      "model_name": "ButtonStyleModel",
      "state": {}
     },
     "45dde46a9ffe4b5fa8d6783b2d3463fb": {
      "model_module": "@jupyter-widgets/controls",
      "model_module_version": "1.5.0",
      "model_name": "ButtonStyleModel",
      "state": {}
     },
     "45fe50a6100e4cb5b02fc2a880b250b1": {
      "model_module": "@jupyter-widgets/controls",
      "model_module_version": "1.5.0",
      "model_name": "ButtonModel",
      "state": {
       "description": "Symulacja",
       "layout": "IPY_MODEL_70a64d95e1e8484888049cbbcb5b8963",
       "style": "IPY_MODEL_db395e21cc6a416a90890f253b4f5ff6"
      }
     },
     "4788e7c836f84d488654a19d46fc715b": {
      "model_module": "@jupyter-widgets/controls",
      "model_module_version": "1.5.0",
      "model_name": "IntSliderModel",
      "state": {
       "description": "Ilosc osob:",
       "layout": "IPY_MODEL_de7108e5b7254709b5372ca3d482d907",
       "style": "IPY_MODEL_8b99900012ca4dd7bf84305c2599d070",
       "value": 100
      }
     },
     "483a9f9236864887b8aa4b7a96131527": {
      "model_module": "@jupyter-widgets/controls",
      "model_module_version": "1.5.0",
      "model_name": "IntSliderModel",
      "state": {
       "description": "Ilosc osob:",
       "layout": "IPY_MODEL_5ab68af643af4e1897659bda85b9840f",
       "style": "IPY_MODEL_c649540884b54239a31deebe38067392",
       "value": 10
      }
     },
     "4904aff7146a42058e594a8badcc6558": {
      "model_module": "@jupyter-widgets/controls",
      "model_module_version": "1.5.0",
      "model_name": "ButtonStyleModel",
      "state": {}
     },
     "49ef82db33a1409bba1bfccc5164a76a": {
      "model_module": "@jupyter-widgets/controls",
      "model_module_version": "1.5.0",
      "model_name": "SliderStyleModel",
      "state": {
       "description_width": ""
      }
     },
     "4a8a71e8b2a24605b70c9e6d69c08bcd": {
      "model_module": "@jupyter-widgets/controls",
      "model_module_version": "1.5.0",
      "model_name": "SliderStyleModel",
      "state": {
       "description_width": ""
      }
     },
     "4b964cbeadc548578e06ea4ca0a6f325": {
      "model_module": "@jupyter-widgets/base",
      "model_module_version": "1.2.0",
      "model_name": "LayoutModel",
      "state": {}
     },
     "4c9effe120d545f5b24ced5dcff7dcaf": {
      "model_module": "@jupyter-widgets/controls",
      "model_module_version": "1.5.0",
      "model_name": "ButtonStyleModel",
      "state": {}
     },
     "4e08c396f6ee4875a025e6acaeccd48c": {
      "model_module": "@jupyter-widgets/base",
      "model_module_version": "1.2.0",
      "model_name": "LayoutModel",
      "state": {}
     },
     "4e2618ec03a948b19e2311a736b6bb3e": {
      "model_module": "@jupyter-widgets/base",
      "model_module_version": "1.2.0",
      "model_name": "LayoutModel",
      "state": {}
     },
     "4eb7fd641934405a84a705786618a6f4": {
      "model_module": "@jupyter-widgets/controls",
      "model_module_version": "1.5.0",
      "model_name": "SliderStyleModel",
      "state": {
       "description_width": ""
      }
     },
     "4f7e77e5b32145cd9bf1a98de3126bcc": {
      "model_module": "@jupyter-widgets/base",
      "model_module_version": "1.2.0",
      "model_name": "LayoutModel",
      "state": {}
     },
     "4ffdc46adbae4381ac010e99ade103d6": {
      "model_module": "@jupyter-widgets/controls",
      "model_module_version": "1.5.0",
      "model_name": "ButtonStyleModel",
      "state": {}
     },
     "52ebb2899d3f44cabfdf01ac6b6308fa": {
      "model_module": "@jupyter-widgets/controls",
      "model_module_version": "1.5.0",
      "model_name": "ButtonModel",
      "state": {
       "description": "Wyczysc",
       "layout": "IPY_MODEL_7fbb77ac58e44f5cb4e20f9cd51d776d",
       "style": "IPY_MODEL_541a12c8b5c9409c99eae5e106e3dfc0"
      }
     },
     "531d2193572744899f1f5025a05f688b": {
      "model_module": "@jupyter-widgets/controls",
      "model_module_version": "1.5.0",
      "model_name": "SliderStyleModel",
      "state": {
       "description_width": ""
      }
     },
     "539763261e7d494698c8e28fe2729e7a": {
      "model_module": "@jupyter-widgets/controls",
      "model_module_version": "1.5.0",
      "model_name": "ButtonModel",
      "state": {
       "description": "Symulacja",
       "layout": "IPY_MODEL_2acd18dbccae4b6ca51b11f750dc2a58",
       "style": "IPY_MODEL_0675e79f0342400b8e1483f1b59b4e0a"
      }
     },
     "541a12c8b5c9409c99eae5e106e3dfc0": {
      "model_module": "@jupyter-widgets/controls",
      "model_module_version": "1.5.0",
      "model_name": "ButtonStyleModel",
      "state": {}
     },
     "55e83af4a24d4b02bf403ce9ff4bf648": {
      "model_module": "@jupyter-widgets/controls",
      "model_module_version": "1.5.0",
      "model_name": "ButtonStyleModel",
      "state": {}
     },
     "563240ca6dfc4d0e8066391f8c1aa115": {
      "model_module": "@jupyter-widgets/controls",
      "model_module_version": "1.5.0",
      "model_name": "ButtonModel",
      "state": {
       "description": "Symulacja",
       "layout": "IPY_MODEL_9b7187a5c1c44724bf1c56608fbe27d2",
       "style": "IPY_MODEL_2b6facb5387843e38319a78b1b7da7da"
      }
     },
     "56b3427a75214766a0b11db768b260c5": {
      "model_module": "@jupyter-widgets/controls",
      "model_module_version": "1.5.0",
      "model_name": "SliderStyleModel",
      "state": {
       "description_width": ""
      }
     },
     "58a2c74cbc164bd2b63997200262dc9d": {
      "model_module": "@jupyter-widgets/base",
      "model_module_version": "1.2.0",
      "model_name": "LayoutModel",
      "state": {}
     },
     "594c099f34244efdb1ecb547b6e14126": {
      "model_module": "@jupyter-widgets/controls",
      "model_module_version": "1.5.0",
      "model_name": "ButtonStyleModel",
      "state": {}
     },
     "59fcc202383a4fb48fb0d70d1e07b65a": {
      "model_module": "@jupyter-widgets/controls",
      "model_module_version": "1.5.0",
      "model_name": "ButtonModel",
      "state": {
       "description": "Symulacja",
       "layout": "IPY_MODEL_a023179b7069407885fc002e8f2643b7",
       "style": "IPY_MODEL_e727d8b7f77947b7be05ace733fe3415"
      }
     },
     "5ab68af643af4e1897659bda85b9840f": {
      "model_module": "@jupyter-widgets/base",
      "model_module_version": "1.2.0",
      "model_name": "LayoutModel",
      "state": {}
     },
     "5ccb37afb83a4e55a4cec99f272fca94": {
      "model_module": "@jupyter-widgets/base",
      "model_module_version": "1.2.0",
      "model_name": "LayoutModel",
      "state": {}
     },
     "5cd12abfc8254f298386e3bba18414ea": {
      "model_module": "@jupyter-widgets/controls",
      "model_module_version": "1.5.0",
      "model_name": "ButtonStyleModel",
      "state": {}
     },
     "5d6bedc172e7473284b635d1314fd8c7": {
      "model_module": "@jupyter-widgets/controls",
      "model_module_version": "1.5.0",
      "model_name": "SliderStyleModel",
      "state": {
       "description_width": ""
      }
     },
     "5d79fd5e2d004b018da47a884c5f8160": {
      "model_module": "@jupyter-widgets/base",
      "model_module_version": "1.2.0",
      "model_name": "LayoutModel",
      "state": {}
     },
     "5f3cc5fa294146ee8185a202f4e21322": {
      "model_module": "@jupyter-widgets/controls",
      "model_module_version": "1.5.0",
      "model_name": "SliderStyleModel",
      "state": {
       "description_width": ""
      }
     },
     "60e9b59ce69e468d98464555912c8f72": {
      "model_module": "@jupyter-widgets/base",
      "model_module_version": "1.2.0",
      "model_name": "LayoutModel",
      "state": {}
     },
     "60f6871037684865a2d943f985c8cb66": {
      "model_module": "@jupyter-widgets/controls",
      "model_module_version": "1.5.0",
      "model_name": "ButtonStyleModel",
      "state": {}
     },
     "615c475d0ef24d1a8b570b5e6bc0993c": {
      "model_module": "@jupyter-widgets/controls",
      "model_module_version": "1.5.0",
      "model_name": "SliderStyleModel",
      "state": {
       "description_width": ""
      }
     },
     "618c6f3b6796497d8e4a049468994762": {
      "model_module": "@jupyter-widgets/controls",
      "model_module_version": "1.5.0",
      "model_name": "ButtonModel",
      "state": {
       "description": "Wyczysc",
       "layout": "IPY_MODEL_dfabd3252ac5499084295843d7eff057",
       "style": "IPY_MODEL_60f6871037684865a2d943f985c8cb66"
      }
     },
     "62c74c07bad74161ad3536687c53777f": {
      "model_module": "@jupyter-widgets/controls",
      "model_module_version": "1.5.0",
      "model_name": "SliderStyleModel",
      "state": {
       "description_width": ""
      }
     },
     "62d3be0f76f24dd88b90ad699816c020": {
      "model_module": "@jupyter-widgets/controls",
      "model_module_version": "1.5.0",
      "model_name": "ButtonModel",
      "state": {
       "description": "Symulacja",
       "layout": "IPY_MODEL_705b9f788cff4ac0a52edbe76389a0b4",
       "style": "IPY_MODEL_4904aff7146a42058e594a8badcc6558"
      }
     },
     "63532a64966c44fab717aac5ada0dfe6": {
      "model_module": "@jupyter-widgets/controls",
      "model_module_version": "1.5.0",
      "model_name": "IntSliderModel",
      "state": {
       "description": "Ilosc osob:",
       "layout": "IPY_MODEL_72848d470bf14faf8d5a9c37ce227341",
       "style": "IPY_MODEL_f3c9568f6c4f4847899a944cb104af54",
       "value": 10
      }
     },
     "64909210d15b4f71b93a78a06889f319": {
      "model_module": "@jupyter-widgets/controls",
      "model_module_version": "1.5.0",
      "model_name": "IntSliderModel",
      "state": {
       "description": "Ilosc osob:",
       "layout": "IPY_MODEL_17a99e8537d54db0b219a0563d240a2f",
       "style": "IPY_MODEL_5d6bedc172e7473284b635d1314fd8c7",
       "value": 87
      }
     },
     "65bd5dba84164fca8ae8836f68b0c88b": {
      "model_module": "@jupyter-widgets/controls",
      "model_module_version": "1.5.0",
      "model_name": "ButtonStyleModel",
      "state": {}
     },
     "67b8f9ca254b443aa5680c360857072b": {
      "model_module": "@jupyter-widgets/base",
      "model_module_version": "1.2.0",
      "model_name": "LayoutModel",
      "state": {}
     },
     "6921401326a744b5b3418e9739ecc0f1": {
      "model_module": "@jupyter-widgets/controls",
      "model_module_version": "1.5.0",
      "model_name": "ButtonModel",
      "state": {
       "description": "Symulacja",
       "layout": "IPY_MODEL_60e9b59ce69e468d98464555912c8f72",
       "style": "IPY_MODEL_594c099f34244efdb1ecb547b6e14126"
      }
     },
     "6c03aeacd97d4b308d643eb6f4376159": {
      "model_module": "@jupyter-widgets/controls",
      "model_module_version": "1.5.0",
      "model_name": "IntSliderModel",
      "state": {
       "description": "Ilosc osob:",
       "layout": "IPY_MODEL_58a2c74cbc164bd2b63997200262dc9d",
       "style": "IPY_MODEL_354121b86ca34ac4a4a848e479d25caf",
       "value": 10
      }
     },
     "6c21a8594ba34f2093bd5c468317a812": {
      "model_module": "@jupyter-widgets/controls",
      "model_module_version": "1.5.0",
      "model_name": "ButtonStyleModel",
      "state": {}
     },
     "6c7d9a3e07a74060a365f34480a9ebb3": {
      "model_module": "@jupyter-widgets/base",
      "model_module_version": "1.2.0",
      "model_name": "LayoutModel",
      "state": {}
     },
     "6d257118129d4dd095c6cd9ef8063421": {
      "model_module": "@jupyter-widgets/base",
      "model_module_version": "1.2.0",
      "model_name": "LayoutModel",
      "state": {}
     },
     "6deaa64ec69c41a69fee777caa7f13f8": {
      "model_module": "@jupyter-widgets/base",
      "model_module_version": "1.2.0",
      "model_name": "LayoutModel",
      "state": {}
     },
     "6e485a9f99f844e087fb04307126770d": {
      "model_module": "@jupyter-widgets/controls",
      "model_module_version": "1.5.0",
      "model_name": "SliderStyleModel",
      "state": {
       "description_width": ""
      }
     },
     "6f1367fa464c49c79080add8c7056837": {
      "model_module": "@jupyter-widgets/base",
      "model_module_version": "1.2.0",
      "model_name": "LayoutModel",
      "state": {}
     },
     "70288ae25895425a950831706952b30f": {
      "model_module": "@jupyter-widgets/controls",
      "model_module_version": "1.5.0",
      "model_name": "IntSliderModel",
      "state": {
       "description": "Ilosc osob:",
       "layout": "IPY_MODEL_70645f57cc3f4d45931f4a2b8799cd6d",
       "style": "IPY_MODEL_16ea175ab60e488a901e8fd10d4c1795",
       "value": 10
      }
     },
     "705b9f788cff4ac0a52edbe76389a0b4": {
      "model_module": "@jupyter-widgets/base",
      "model_module_version": "1.2.0",
      "model_name": "LayoutModel",
      "state": {}
     },
     "70645f57cc3f4d45931f4a2b8799cd6d": {
      "model_module": "@jupyter-widgets/base",
      "model_module_version": "1.2.0",
      "model_name": "LayoutModel",
      "state": {}
     },
     "70a64d95e1e8484888049cbbcb5b8963": {
      "model_module": "@jupyter-widgets/base",
      "model_module_version": "1.2.0",
      "model_name": "LayoutModel",
      "state": {}
     },
     "71fa0639529f487d9717ac27ad8715d7": {
      "model_module": "@jupyter-widgets/controls",
      "model_module_version": "1.5.0",
      "model_name": "ButtonModel",
      "state": {
       "description": "Wyczysc",
       "layout": "IPY_MODEL_037cd3f8947f4fbdabbaea1afa715ce9",
       "style": "IPY_MODEL_43b52d9512474886821bc91e8d2aa9eb"
      }
     },
     "72848d470bf14faf8d5a9c37ce227341": {
      "model_module": "@jupyter-widgets/base",
      "model_module_version": "1.2.0",
      "model_name": "LayoutModel",
      "state": {}
     },
     "73931452ff6f4394917574e955a28813": {
      "model_module": "@jupyter-widgets/controls",
      "model_module_version": "1.5.0",
      "model_name": "ButtonModel",
      "state": {
       "description": "Wyczysc",
       "layout": "IPY_MODEL_b3dddefc6eb44ddbb64c26bb9a6dd14c",
       "style": "IPY_MODEL_cca25bbafa0241fb82764bdac8f25fca"
      }
     },
     "74b727f772a9456a99a80610d46bb817": {
      "model_module": "@jupyter-widgets/base",
      "model_module_version": "1.2.0",
      "model_name": "LayoutModel",
      "state": {}
     },
     "752187ff60534388ac13a1bd8cd95c27": {
      "model_module": "@jupyter-widgets/base",
      "model_module_version": "1.2.0",
      "model_name": "LayoutModel",
      "state": {}
     },
     "7553bf20234241c5bef4cdd5eb7491f6": {
      "model_module": "@jupyter-widgets/controls",
      "model_module_version": "1.5.0",
      "model_name": "ButtonStyleModel",
      "state": {}
     },
     "7652610fc0fb4a1b8bb294394e4083db": {
      "model_module": "@jupyter-widgets/base",
      "model_module_version": "1.2.0",
      "model_name": "LayoutModel",
      "state": {}
     },
     "769df1aeccd049029a1cf9d9d76034ec": {
      "model_module": "@jupyter-widgets/controls",
      "model_module_version": "1.5.0",
      "model_name": "ButtonStyleModel",
      "state": {}
     },
     "76b84b8325ef425f8d8aae2b289c1284": {
      "model_module": "@jupyter-widgets/controls",
      "model_module_version": "1.5.0",
      "model_name": "ButtonStyleModel",
      "state": {}
     },
     "78a4b65baf2941ff872704293975a681": {
      "model_module": "@jupyter-widgets/controls",
      "model_module_version": "1.5.0",
      "model_name": "IntSliderModel",
      "state": {
       "description": "Ilosc osob:",
       "layout": "IPY_MODEL_6deaa64ec69c41a69fee777caa7f13f8",
       "style": "IPY_MODEL_97833a734cd34670af93c6dec1193ce9",
       "value": 29
      }
     },
     "78c19925ddf644d582633499b0305f39": {
      "model_module": "@jupyter-widgets/controls",
      "model_module_version": "1.5.0",
      "model_name": "IntSliderModel",
      "state": {
       "description": "Ilosc osob:",
       "layout": "IPY_MODEL_f5accba4f879435a85ce82c917e349ba",
       "max": 10,
       "style": "IPY_MODEL_f3e19da3d97147b6af1ec8970645d89d",
       "value": 3
      }
     },
     "79baa4e183de4b8f8104fa446f406328": {
      "model_module": "@jupyter-widgets/base",
      "model_module_version": "1.2.0",
      "model_name": "LayoutModel",
      "state": {}
     },
     "7c0230ac904644f2ae013e4bd21dda10": {
      "model_module": "@jupyter-widgets/controls",
      "model_module_version": "1.5.0",
      "model_name": "IntSliderModel",
      "state": {
       "description": "Ilosc osob:",
       "layout": "IPY_MODEL_bb833ffc01b74da5b2786d346a62cc6f",
       "style": "IPY_MODEL_f7f1ade0f328481faf7360e242b94a23",
       "value": 10
      }
     },
     "7c49535e931e4d26a1386097ae0b42b3": {
      "model_module": "@jupyter-widgets/base",
      "model_module_version": "1.2.0",
      "model_name": "LayoutModel",
      "state": {}
     },
     "7c7498d1a6d74102b7263957bb4bb8ce": {
      "model_module": "@jupyter-widgets/controls",
      "model_module_version": "1.5.0",
      "model_name": "SliderStyleModel",
      "state": {
       "description_width": ""
      }
     },
     "7d3e7664360542348a7f514561b50d0c": {
      "model_module": "@jupyter-widgets/controls",
      "model_module_version": "1.5.0",
      "model_name": "ButtonStyleModel",
      "state": {}
     },
     "7fbb77ac58e44f5cb4e20f9cd51d776d": {
      "model_module": "@jupyter-widgets/base",
      "model_module_version": "1.2.0",
      "model_name": "LayoutModel",
      "state": {}
     },
     "7ff18fa1931c4eca99426341cc3da738": {
      "model_module": "@jupyter-widgets/controls",
      "model_module_version": "1.5.0",
      "model_name": "SliderStyleModel",
      "state": {
       "description_width": ""
      }
     },
     "81456b64646841ffb09d423315282ac3": {
      "model_module": "@jupyter-widgets/controls",
      "model_module_version": "1.5.0",
      "model_name": "ButtonStyleModel",
      "state": {}
     },
     "84ad13c54c9d49a6814237f0bbbc677e": {
      "model_module": "@jupyter-widgets/controls",
      "model_module_version": "1.5.0",
      "model_name": "ButtonModel",
      "state": {
       "description": "Symulacja",
       "layout": "IPY_MODEL_6c7d9a3e07a74060a365f34480a9ebb3",
       "style": "IPY_MODEL_6c21a8594ba34f2093bd5c468317a812"
      }
     },
     "855ed84c1933429baf899b0d5b1287ef": {
      "model_module": "@jupyter-widgets/controls",
      "model_module_version": "1.5.0",
      "model_name": "SliderStyleModel",
      "state": {
       "description_width": ""
      }
     },
     "85e005375cad44119d3e7199b92438a0": {
      "model_module": "@jupyter-widgets/base",
      "model_module_version": "1.2.0",
      "model_name": "LayoutModel",
      "state": {}
     },
     "8715d59920994cd3b3a78b2fd3896c48": {
      "model_module": "@jupyter-widgets/base",
      "model_module_version": "1.2.0",
      "model_name": "LayoutModel",
      "state": {}
     },
     "8752ef9dc68e460bb2cdddaded7a77eb": {
      "model_module": "@jupyter-widgets/controls",
      "model_module_version": "1.5.0",
      "model_name": "IntSliderModel",
      "state": {
       "description": "Ilosc osob:",
       "layout": "IPY_MODEL_e8e6e81ac836457ebb27605d9493bc24",
       "style": "IPY_MODEL_e724161a284d4bf3b325088e06f3dae2",
       "value": 10
      }
     },
     "881f8dd64d1e40f4b5ebe5bf3070a3de": {
      "model_module": "@jupyter-widgets/controls",
      "model_module_version": "1.5.0",
      "model_name": "IntSliderModel",
      "state": {
       "description": "Ilosc osob:",
       "layout": "IPY_MODEL_40dc50970a8d4ff3a62b8ffe9a5172e4",
       "style": "IPY_MODEL_a41509cd98774b6db1c9938169dd2aa8",
       "value": 2
      }
     },
     "883441a85aba4447b8f480db48cbe5aa": {
      "model_module": "@jupyter-widgets/controls",
      "model_module_version": "1.5.0",
      "model_name": "ButtonStyleModel",
      "state": {}
     },
     "888be0dbf5ad47dd95c0eb599ecb85a9": {
      "model_module": "@jupyter-widgets/base",
      "model_module_version": "1.2.0",
      "model_name": "LayoutModel",
      "state": {}
     },
     "888fd0c0d1064a71be1b4a478c01060b": {
      "model_module": "@jupyter-widgets/controls",
      "model_module_version": "1.5.0",
      "model_name": "ButtonStyleModel",
      "state": {}
     },
     "8b18d0a70c87430bbfafd1d8d8d3ed0a": {
      "model_module": "@jupyter-widgets/base",
      "model_module_version": "1.2.0",
      "model_name": "LayoutModel",
      "state": {}
     },
     "8b2d2d2d98174d539f4d2f521084c57d": {
      "model_module": "@jupyter-widgets/base",
      "model_module_version": "1.2.0",
      "model_name": "LayoutModel",
      "state": {}
     },
     "8b99900012ca4dd7bf84305c2599d070": {
      "model_module": "@jupyter-widgets/controls",
      "model_module_version": "1.5.0",
      "model_name": "SliderStyleModel",
      "state": {
       "description_width": ""
      }
     },
     "8cac40f087b847e7ad03473292f4d80a": {
      "model_module": "@jupyter-widgets/controls",
      "model_module_version": "1.5.0",
      "model_name": "ButtonModel",
      "state": {
       "description": "Symulacja",
       "layout": "IPY_MODEL_2daadfd91f92402c994b8b5f37ee612b",
       "style": "IPY_MODEL_81456b64646841ffb09d423315282ac3"
      }
     },
     "8d26b16005af4ed582062db583057d1e": {
      "model_module": "@jupyter-widgets/base",
      "model_module_version": "1.2.0",
      "model_name": "LayoutModel",
      "state": {}
     },
     "8d27d88194eb4829800a4c651ff56332": {
      "model_module": "@jupyter-widgets/controls",
      "model_module_version": "1.5.0",
      "model_name": "ButtonStyleModel",
      "state": {}
     },
     "8d3131d0e6bf49c99d65fc0764ba4b38": {
      "model_module": "@jupyter-widgets/controls",
      "model_module_version": "1.5.0",
      "model_name": "ButtonModel",
      "state": {
       "description": "Symulacja",
       "layout": "IPY_MODEL_9a89cb27f16c4d1e8b10aaa62f4e42dc",
       "style": "IPY_MODEL_8d27d88194eb4829800a4c651ff56332"
      }
     },
     "8e0248abcf194c38b7eb7acaa576a0eb": {
      "model_module": "@jupyter-widgets/controls",
      "model_module_version": "1.5.0",
      "model_name": "ButtonStyleModel",
      "state": {}
     },
     "8f01e6fef95046f9aa9800269cf3fdbc": {
      "model_module": "@jupyter-widgets/controls",
      "model_module_version": "1.5.0",
      "model_name": "IntSliderModel",
      "state": {
       "description": "Ilosc osob:",
       "layout": "IPY_MODEL_8715d59920994cd3b3a78b2fd3896c48",
       "style": "IPY_MODEL_56b3427a75214766a0b11db768b260c5",
       "value": 10
      }
     },
     "8f340ebab0fa46a3a7d21ff12802ce57": {
      "model_module": "@jupyter-widgets/controls",
      "model_module_version": "1.5.0",
      "model_name": "ButtonStyleModel",
      "state": {}
     },
     "90a827868687498189e41abed9e6f5b4": {
      "model_module": "@jupyter-widgets/base",
      "model_module_version": "1.2.0",
      "model_name": "LayoutModel",
      "state": {}
     },
     "937586576f5d4289802e38d937133d07": {
      "model_module": "@jupyter-widgets/controls",
      "model_module_version": "1.5.0",
      "model_name": "IntSliderModel",
      "state": {
       "description": "Ilosc osob:",
       "layout": "IPY_MODEL_752187ff60534388ac13a1bd8cd95c27",
       "style": "IPY_MODEL_eb43f5d57fe1489a87c7184f62589bb9",
       "value": 10
      }
     },
     "939433da02014f3da9efecc11677a3b0": {
      "model_module": "@jupyter-widgets/controls",
      "model_module_version": "1.5.0",
      "model_name": "ButtonStyleModel",
      "state": {}
     },
     "97833a734cd34670af93c6dec1193ce9": {
      "model_module": "@jupyter-widgets/controls",
      "model_module_version": "1.5.0",
      "model_name": "SliderStyleModel",
      "state": {
       "description_width": ""
      }
     },
     "994c04f5c8324b9e8ce1090046f9c0cf": {
      "model_module": "@jupyter-widgets/base",
      "model_module_version": "1.2.0",
      "model_name": "LayoutModel",
      "state": {}
     },
     "99a1b74e9bb847d792404b36d3346983": {
      "model_module": "@jupyter-widgets/base",
      "model_module_version": "1.2.0",
      "model_name": "LayoutModel",
      "state": {}
     },
     "9a89cb27f16c4d1e8b10aaa62f4e42dc": {
      "model_module": "@jupyter-widgets/base",
      "model_module_version": "1.2.0",
      "model_name": "LayoutModel",
      "state": {}
     },
     "9aadf0ffa08a449ca4b926d7d8237a43": {
      "model_module": "@jupyter-widgets/base",
      "model_module_version": "1.2.0",
      "model_name": "LayoutModel",
      "state": {}
     },
     "9abd355bbe51417c82f77940e82459eb": {
      "model_module": "@jupyter-widgets/base",
      "model_module_version": "1.2.0",
      "model_name": "LayoutModel",
      "state": {}
     },
     "9b7187a5c1c44724bf1c56608fbe27d2": {
      "model_module": "@jupyter-widgets/base",
      "model_module_version": "1.2.0",
      "model_name": "LayoutModel",
      "state": {}
     },
     "9c9c0a32cc494571bf0c8e35d3153356": {
      "model_module": "@jupyter-widgets/controls",
      "model_module_version": "1.5.0",
      "model_name": "ButtonModel",
      "state": {
       "description": "Symulacja",
       "layout": "IPY_MODEL_9db540db0e904797ac8a1d88084667f2",
       "style": "IPY_MODEL_f1d1cc18a668465da082ac4f60a34e46"
      }
     },
     "9db540db0e904797ac8a1d88084667f2": {
      "model_module": "@jupyter-widgets/base",
      "model_module_version": "1.2.0",
      "model_name": "LayoutModel",
      "state": {}
     },
     "9e3715b853a64410a5e39c6cc6b9fa21": {
      "model_module": "@jupyter-widgets/base",
      "model_module_version": "1.2.0",
      "model_name": "LayoutModel",
      "state": {}
     },
     "9f91fad3218c42e39283fb8a3fe2d799": {
      "model_module": "@jupyter-widgets/controls",
      "model_module_version": "1.5.0",
      "model_name": "ButtonModel",
      "state": {
       "description": "Wyczysc",
       "layout": "IPY_MODEL_ec8af51e604f45dabebfa7fcbdb2158f",
       "style": "IPY_MODEL_c578fff477784362b0695d462587baf6"
      }
     },
     "a023179b7069407885fc002e8f2643b7": {
      "model_module": "@jupyter-widgets/base",
      "model_module_version": "1.2.0",
      "model_name": "LayoutModel",
      "state": {}
     },
     "a09f8327f13f4ec3be97a5151709b8d9": {
      "model_module": "@jupyter-widgets/controls",
      "model_module_version": "1.5.0",
      "model_name": "SliderStyleModel",
      "state": {
       "description_width": ""
      }
     },
     "a154e14daf784f93804307a08a03d40e": {
      "model_module": "@jupyter-widgets/controls",
      "model_module_version": "1.5.0",
      "model_name": "IntSliderModel",
      "state": {
       "description": "Ilosc osob:",
       "layout": "IPY_MODEL_d31bd4d8e513407fae75ff35c981331a",
       "style": "IPY_MODEL_35eaa51b67fb4b56aceff438c3e73f67",
       "value": 10
      }
     },
     "a209b923312a44bdb92fbc983738220d": {
      "model_module": "@jupyter-widgets/controls",
      "model_module_version": "1.5.0",
      "model_name": "ButtonStyleModel",
      "state": {}
     },
     "a28fa88f42fc49c0b410731342cc254b": {
      "model_module": "@jupyter-widgets/controls",
      "model_module_version": "1.5.0",
      "model_name": "ButtonModel",
      "state": {
       "description": "Symulacja",
       "layout": "IPY_MODEL_30d596f2efcc4d5fb632d6ef666477c3",
       "style": "IPY_MODEL_45b559d0d5ed41fd8a32d9b4c93b11e8"
      }
     },
     "a2a54ea88958420585dedc9bd4df7cfb": {
      "model_module": "@jupyter-widgets/controls",
      "model_module_version": "1.5.0",
      "model_name": "SliderStyleModel",
      "state": {
       "description_width": ""
      }
     },
     "a3a07a6a99c54218911c764ba2d4d1d5": {
      "model_module": "@jupyter-widgets/controls",
      "model_module_version": "1.5.0",
      "model_name": "IntSliderModel",
      "state": {
       "description": "Ilosc osob:",
       "layout": "IPY_MODEL_9e3715b853a64410a5e39c6cc6b9fa21",
       "style": "IPY_MODEL_6e485a9f99f844e087fb04307126770d",
       "value": 10
      }
     },
     "a41509cd98774b6db1c9938169dd2aa8": {
      "model_module": "@jupyter-widgets/controls",
      "model_module_version": "1.5.0",
      "model_name": "SliderStyleModel",
      "state": {
       "description_width": ""
      }
     },
     "a5c00526226c412d82498538c9e7e632": {
      "model_module": "@jupyter-widgets/controls",
      "model_module_version": "1.5.0",
      "model_name": "IntSliderModel",
      "state": {
       "description": "Ilosc osob:",
       "layout": "IPY_MODEL_11692b506266437d9cf0a46edba7403a",
       "style": "IPY_MODEL_0da8b2736d5941fdb6ce91a25a7614c8",
       "value": 10
      }
     },
     "a697e8acd96c453e9adef3db62916468": {
      "model_module": "@jupyter-widgets/base",
      "model_module_version": "1.2.0",
      "model_name": "LayoutModel",
      "state": {}
     },
     "a9be090aab4a4d4e9a6d161dc697bcf4": {
      "model_module": "@jupyter-widgets/controls",
      "model_module_version": "1.5.0",
      "model_name": "SliderStyleModel",
      "state": {
       "description_width": ""
      }
     },
     "ac2fe4cc478643a9a68a9655b0472210": {
      "model_module": "@jupyter-widgets/base",
      "model_module_version": "1.2.0",
      "model_name": "LayoutModel",
      "state": {}
     },
     "aebf283b2fa740dbb7766c558f860f10": {
      "model_module": "@jupyter-widgets/base",
      "model_module_version": "1.2.0",
      "model_name": "LayoutModel",
      "state": {}
     },
     "aede74e8750744fab62db181a342c27b": {
      "model_module": "@jupyter-widgets/controls",
      "model_module_version": "1.5.0",
      "model_name": "IntSliderModel",
      "state": {
       "description": "Ilosc osob:",
       "layout": "IPY_MODEL_8b2d2d2d98174d539f4d2f521084c57d",
       "style": "IPY_MODEL_b3f8cae02d3f4b969372f9e7adef46ac",
       "value": 10
      }
     },
     "afc5495583d8438ca935eff6db180fb9": {
      "model_module": "@jupyter-widgets/controls",
      "model_module_version": "1.5.0",
      "model_name": "ButtonModel",
      "state": {
       "description": "Symulacja",
       "layout": "IPY_MODEL_4e08c396f6ee4875a025e6acaeccd48c",
       "style": "IPY_MODEL_4ffdc46adbae4381ac010e99ade103d6"
      }
     },
     "afe986e4b09e4d7ab4cf16e1611747e2": {
      "model_module": "@jupyter-widgets/base",
      "model_module_version": "1.2.0",
      "model_name": "LayoutModel",
      "state": {}
     },
     "b00c8ef884734fdb8f16accff16372cb": {
      "model_module": "@jupyter-widgets/controls",
      "model_module_version": "1.5.0",
      "model_name": "ButtonModel",
      "state": {
       "description": "Symulacja",
       "layout": "IPY_MODEL_f78f2a164dfa4eab8cdc8469cb5f32d1",
       "style": "IPY_MODEL_c2398576b40c47c5a08c49f67f6bfa08"
      }
     },
     "b14340d36b62404899d48dc662f0f88d": {
      "model_module": "@jupyter-widgets/controls",
      "model_module_version": "1.5.0",
      "model_name": "ButtonModel",
      "state": {
       "description": "Wyczysc",
       "layout": "IPY_MODEL_f70e3d6af0fc4704a3de98d7cba7a15d",
       "style": "IPY_MODEL_7553bf20234241c5bef4cdd5eb7491f6"
      }
     },
     "b218cf9998374648967232bbda376532": {
      "model_module": "@jupyter-widgets/base",
      "model_module_version": "1.2.0",
      "model_name": "LayoutModel",
      "state": {}
     },
     "b2703f1174004247b5c59f09a891dcdb": {
      "model_module": "@jupyter-widgets/base",
      "model_module_version": "1.2.0",
      "model_name": "LayoutModel",
      "state": {}
     },
     "b28833589544405aa6dbec4ada895541": {
      "model_module": "@jupyter-widgets/controls",
      "model_module_version": "1.5.0",
      "model_name": "ButtonModel",
      "state": {
       "description": "Symulacja",
       "layout": "IPY_MODEL_5d79fd5e2d004b018da47a884c5f8160",
       "style": "IPY_MODEL_ccefc78be3914ae98025fb1ac1831bc0"
      }
     },
     "b3dddefc6eb44ddbb64c26bb9a6dd14c": {
      "model_module": "@jupyter-widgets/base",
      "model_module_version": "1.2.0",
      "model_name": "LayoutModel",
      "state": {}
     },
     "b3f8cae02d3f4b969372f9e7adef46ac": {
      "model_module": "@jupyter-widgets/controls",
      "model_module_version": "1.5.0",
      "model_name": "SliderStyleModel",
      "state": {
       "description_width": ""
      }
     },
     "b429076913d4462eafaf2a222e757cb0": {
      "model_module": "@jupyter-widgets/controls",
      "model_module_version": "1.5.0",
      "model_name": "ButtonModel",
      "state": {
       "description": "Symulacja",
       "layout": "IPY_MODEL_90a827868687498189e41abed9e6f5b4",
       "style": "IPY_MODEL_f9d805b541cb4698a77302ee137b6611"
      }
     },
     "b531c342e28a4f2a8b23ddecfe0240e5": {
      "model_module": "@jupyter-widgets/controls",
      "model_module_version": "1.5.0",
      "model_name": "SliderStyleModel",
      "state": {
       "description_width": ""
      }
     },
     "b74f18883c3349db9d1c0e540a5a5bef": {
      "model_module": "@jupyter-widgets/controls",
      "model_module_version": "1.5.0",
      "model_name": "SliderStyleModel",
      "state": {
       "description_width": ""
      }
     },
     "b7981480680d44669787011bb3ff8754": {
      "model_module": "@jupyter-widgets/base",
      "model_module_version": "1.2.0",
      "model_name": "LayoutModel",
      "state": {}
     },
     "b94854ddb79e40969f6e8aee5d86344d": {
      "model_module": "@jupyter-widgets/controls",
      "model_module_version": "1.5.0",
      "model_name": "IntSliderModel",
      "state": {
       "description": "Ilosc osob:",
       "layout": "IPY_MODEL_00c363ce63ae447bb940bdbcf05d71f6",
       "style": "IPY_MODEL_49ef82db33a1409bba1bfccc5164a76a",
       "value": 10
      }
     },
     "ba294da31bcd4915b5eb2ebb8f70fbd3": {
      "model_module": "@jupyter-widgets/controls",
      "model_module_version": "1.5.0",
      "model_name": "ButtonModel",
      "state": {
       "description": "Symulacja",
       "layout": "IPY_MODEL_d4bc60aad630462198cf662bcf6de0f3",
       "style": "IPY_MODEL_55e83af4a24d4b02bf403ce9ff4bf648"
      }
     },
     "bafb4d78068342d08e9fad464b521ddf": {
      "model_module": "@jupyter-widgets/controls",
      "model_module_version": "1.5.0",
      "model_name": "ButtonModel",
      "state": {
       "description": "Symulacja",
       "layout": "IPY_MODEL_9aadf0ffa08a449ca4b926d7d8237a43",
       "style": "IPY_MODEL_e44935dac2594cb6912e7401709860a1"
      }
     },
     "bb69304430ad49ddb206d0a0c3da432a": {
      "model_module": "@jupyter-widgets/base",
      "model_module_version": "1.2.0",
      "model_name": "LayoutModel",
      "state": {}
     },
     "bb833ffc01b74da5b2786d346a62cc6f": {
      "model_module": "@jupyter-widgets/base",
      "model_module_version": "1.2.0",
      "model_name": "LayoutModel",
      "state": {}
     },
     "bc5689cc8dcf4c42b130dbe4f0bffd12": {
      "model_module": "@jupyter-widgets/controls",
      "model_module_version": "1.5.0",
      "model_name": "ButtonStyleModel",
      "state": {}
     },
     "bcb9029594c64b92b1bc814eca0191e5": {
      "model_module": "@jupyter-widgets/base",
      "model_module_version": "1.2.0",
      "model_name": "LayoutModel",
      "state": {}
     },
     "bcfbd715366a4afda73384533a5825bf": {
      "model_module": "@jupyter-widgets/base",
      "model_module_version": "1.2.0",
      "model_name": "LayoutModel",
      "state": {}
     },
     "bd36f6c430dd4b50abd115cc47c0d475": {
      "model_module": "@jupyter-widgets/controls",
      "model_module_version": "1.5.0",
      "model_name": "SliderStyleModel",
      "state": {
       "description_width": ""
      }
     },
     "be012e77c4724ec3bb34f91b72fcda52": {
      "model_module": "@jupyter-widgets/controls",
      "model_module_version": "1.5.0",
      "model_name": "ButtonStyleModel",
      "state": {}
     },
     "be32cfc821c2453d99cfe366f55015c0": {
      "model_module": "@jupyter-widgets/controls",
      "model_module_version": "1.5.0",
      "model_name": "ButtonModel",
      "state": {
       "description": "Wyczysc",
       "layout": "IPY_MODEL_1d3f49e1ea47483b9826f6ab5f8f8307",
       "style": "IPY_MODEL_45dde46a9ffe4b5fa8d6783b2d3463fb"
      }
     },
     "c183aed4eef047028b258458c7f534e7": {
      "model_module": "@jupyter-widgets/controls",
      "model_module_version": "1.5.0",
      "model_name": "IntSliderModel",
      "state": {
       "description": "Ilosc osob:",
       "layout": "IPY_MODEL_8d26b16005af4ed582062db583057d1e",
       "style": "IPY_MODEL_0fe0aa67092d48798ee303e132c482f5",
       "value": 14
      }
     },
     "c1e771de08124d1ea086a34f253283f3": {
      "model_module": "@jupyter-widgets/controls",
      "model_module_version": "1.5.0",
      "model_name": "ButtonModel",
      "state": {
       "description": "Wyczysc",
       "layout": "IPY_MODEL_5ccb37afb83a4e55a4cec99f272fca94",
       "style": "IPY_MODEL_d6e44942be4b415f92a6cb145bb560a2"
      }
     },
     "c2398576b40c47c5a08c49f67f6bfa08": {
      "model_module": "@jupyter-widgets/controls",
      "model_module_version": "1.5.0",
      "model_name": "ButtonStyleModel",
      "state": {}
     },
     "c2da0262f2d3435181662803510af14f": {
      "model_module": "@jupyter-widgets/controls",
      "model_module_version": "1.5.0",
      "model_name": "IntSliderModel",
      "state": {
       "description": "Ilosc osob:",
       "layout": "IPY_MODEL_74b727f772a9456a99a80610d46bb817",
       "style": "IPY_MODEL_ff0a1a6d0ad54c27982941c1f32f92e7",
       "value": 76
      }
     },
     "c578fff477784362b0695d462587baf6": {
      "model_module": "@jupyter-widgets/controls",
      "model_module_version": "1.5.0",
      "model_name": "ButtonStyleModel",
      "state": {}
     },
     "c633660a6ff54b56931c3082b04bc759": {
      "model_module": "@jupyter-widgets/base",
      "model_module_version": "1.2.0",
      "model_name": "LayoutModel",
      "state": {}
     },
     "c649540884b54239a31deebe38067392": {
      "model_module": "@jupyter-widgets/controls",
      "model_module_version": "1.5.0",
      "model_name": "SliderStyleModel",
      "state": {
       "description_width": ""
      }
     },
     "c696b1791379430a828eb0f3e7b23abe": {
      "model_module": "@jupyter-widgets/base",
      "model_module_version": "1.2.0",
      "model_name": "LayoutModel",
      "state": {}
     },
     "c6e686eae95a499ca25baa12deff5ecd": {
      "model_module": "@jupyter-widgets/controls",
      "model_module_version": "1.5.0",
      "model_name": "IntSliderModel",
      "state": {
       "description": "Ilosc osob:",
       "layout": "IPY_MODEL_14b80716b41a4211a52c596faf2b9f90",
       "style": "IPY_MODEL_08b51799d968403fb470aead3805f95b",
       "value": 10
      }
     },
     "c9643794076648d3868b5ac19f0c774a": {
      "model_module": "@jupyter-widgets/base",
      "model_module_version": "1.2.0",
      "model_name": "LayoutModel",
      "state": {}
     },
     "c99a553e5d174592be913a96753994aa": {
      "model_module": "@jupyter-widgets/base",
      "model_module_version": "1.2.0",
      "model_name": "LayoutModel",
      "state": {}
     },
     "cb46b0eb3ef04b5fb176ce07cbaa2be0": {
      "model_module": "@jupyter-widgets/controls",
      "model_module_version": "1.5.0",
      "model_name": "ButtonStyleModel",
      "state": {}
     },
     "cc22b866cbb0407781206871308b3a2f": {
      "model_module": "@jupyter-widgets/base",
      "model_module_version": "1.2.0",
      "model_name": "LayoutModel",
      "state": {}
     },
     "cca25bbafa0241fb82764bdac8f25fca": {
      "model_module": "@jupyter-widgets/controls",
      "model_module_version": "1.5.0",
      "model_name": "ButtonStyleModel",
      "state": {}
     },
     "ccefc78be3914ae98025fb1ac1831bc0": {
      "model_module": "@jupyter-widgets/controls",
      "model_module_version": "1.5.0",
      "model_name": "ButtonStyleModel",
      "state": {}
     },
     "cda5ac412c2a4402886cf92796d6151d": {
      "model_module": "@jupyter-widgets/controls",
      "model_module_version": "1.5.0",
      "model_name": "ButtonStyleModel",
      "state": {}
     },
     "cdf0ad951c8242d4be244526925550ea": {
      "model_module": "@jupyter-widgets/controls",
      "model_module_version": "1.5.0",
      "model_name": "ButtonModel",
      "state": {
       "description": "Symulacja",
       "layout": "IPY_MODEL_d2579a26334e47b89217d46a8073bdba",
       "style": "IPY_MODEL_4c9effe120d545f5b24ced5dcff7dcaf"
      }
     },
     "ceb8641a5c5a4b059b1a8e022f5c2e8b": {
      "model_module": "@jupyter-widgets/controls",
      "model_module_version": "1.5.0",
      "model_name": "ButtonModel",
      "state": {
       "description": "Symulacja",
       "layout": "IPY_MODEL_e58ec3a583fb4fa09c40430578634b8d",
       "style": "IPY_MODEL_2bd0bf2932d0477187ad76dd94417f11"
      }
     },
     "cf8a261c808b45ef928bbb8e93916818": {
      "model_module": "@jupyter-widgets/controls",
      "model_module_version": "1.5.0",
      "model_name": "ButtonStyleModel",
      "state": {}
     },
     "cfe4cbf679e948239b626f649555b883": {
      "model_module": "@jupyter-widgets/controls",
      "model_module_version": "1.5.0",
      "model_name": "ButtonModel",
      "state": {
       "description": "Symulacja",
       "layout": "IPY_MODEL_3a5bec8d109f45e59d0e937d3c9fcec6",
       "style": "IPY_MODEL_cb46b0eb3ef04b5fb176ce07cbaa2be0"
      }
     },
     "d17e48b288e642839e02a51b612fe7c5": {
      "model_module": "@jupyter-widgets/controls",
      "model_module_version": "1.5.0",
      "model_name": "ButtonModel",
      "state": {
       "description": "Symulacja",
       "layout": "IPY_MODEL_f099f161737e4636b5f8da3d5ecee6d4",
       "style": "IPY_MODEL_883441a85aba4447b8f480db48cbe5aa"
      }
     },
     "d2579a26334e47b89217d46a8073bdba": {
      "model_module": "@jupyter-widgets/base",
      "model_module_version": "1.2.0",
      "model_name": "LayoutModel",
      "state": {}
     },
     "d31bd4d8e513407fae75ff35c981331a": {
      "model_module": "@jupyter-widgets/base",
      "model_module_version": "1.2.0",
      "model_name": "LayoutModel",
      "state": {}
     },
     "d4bc60aad630462198cf662bcf6de0f3": {
      "model_module": "@jupyter-widgets/base",
      "model_module_version": "1.2.0",
      "model_name": "LayoutModel",
      "state": {}
     },
     "d6879c3bdeec48d9a5bf9fddb84259c6": {
      "model_module": "@jupyter-widgets/controls",
      "model_module_version": "1.5.0",
      "model_name": "IntSliderModel",
      "state": {
       "description": "Ilosc osob:",
       "layout": "IPY_MODEL_6f1367fa464c49c79080add8c7056837",
       "style": "IPY_MODEL_4eb7fd641934405a84a705786618a6f4",
       "value": 10
      }
     },
     "d6e44942be4b415f92a6cb145bb560a2": {
      "model_module": "@jupyter-widgets/controls",
      "model_module_version": "1.5.0",
      "model_name": "ButtonStyleModel",
      "state": {}
     },
     "d6fc4ef270af43758457f6767b015a0e": {
      "model_module": "@jupyter-widgets/controls",
      "model_module_version": "1.5.0",
      "model_name": "ButtonModel",
      "state": {
       "description": "Wyczysc",
       "layout": "IPY_MODEL_07c9634bfbdd40e681ad02cf621fcd82",
       "style": "IPY_MODEL_be012e77c4724ec3bb34f91b72fcda52"
      }
     },
     "d71897bcfcf24ee3a46a01f6ae8c7c65": {
      "model_module": "@jupyter-widgets/controls",
      "model_module_version": "1.5.0",
      "model_name": "ButtonModel",
      "state": {
       "description": "Symulacja",
       "layout": "IPY_MODEL_bcfbd715366a4afda73384533a5825bf",
       "style": "IPY_MODEL_0c464ae6ce6e45aeb1333437d00be023"
      }
     },
     "d7cc18fae6984d66a810ea5140364caa": {
      "model_module": "@jupyter-widgets/base",
      "model_module_version": "1.2.0",
      "model_name": "LayoutModel",
      "state": {}
     },
     "d9882527f1524d6ab3814770baa3a72e": {
      "model_module": "@jupyter-widgets/controls",
      "model_module_version": "1.5.0",
      "model_name": "ButtonStyleModel",
      "state": {}
     },
     "d9cca4b1e82d444ab7cda5c01d0dde96": {
      "model_module": "@jupyter-widgets/controls",
      "model_module_version": "1.5.0",
      "model_name": "ButtonStyleModel",
      "state": {}
     },
     "da48e8ec1aaf42b1a7b982a3eaa0bd49": {
      "model_module": "@jupyter-widgets/controls",
      "model_module_version": "1.5.0",
      "model_name": "IntSliderModel",
      "state": {
       "description": "Ilosc osob:",
       "layout": "IPY_MODEL_12ef1086a6af4f4caf8c7a6be36daafd",
       "style": "IPY_MODEL_e1fe2f6d87fb45248c96ffd6f6fbb0ac",
       "value": 10
      }
     },
     "db395e21cc6a416a90890f253b4f5ff6": {
      "model_module": "@jupyter-widgets/controls",
      "model_module_version": "1.5.0",
      "model_name": "ButtonStyleModel",
      "state": {}
     },
     "db65b1db1f3649268a55a6932f32216b": {
      "model_module": "@jupyter-widgets/base",
      "model_module_version": "1.2.0",
      "model_name": "LayoutModel",
      "state": {}
     },
     "de7108e5b7254709b5372ca3d482d907": {
      "model_module": "@jupyter-widgets/base",
      "model_module_version": "1.2.0",
      "model_name": "LayoutModel",
      "state": {}
     },
     "dfabd3252ac5499084295843d7eff057": {
      "model_module": "@jupyter-widgets/base",
      "model_module_version": "1.2.0",
      "model_name": "LayoutModel",
      "state": {}
     },
     "e07662262a714b34902589b20fffe4e1": {
      "model_module": "@jupyter-widgets/controls",
      "model_module_version": "1.5.0",
      "model_name": "ButtonStyleModel",
      "state": {}
     },
     "e11c22f36d07409299cfb510a11337f2": {
      "model_module": "@jupyter-widgets/controls",
      "model_module_version": "1.5.0",
      "model_name": "ButtonStyleModel",
      "state": {}
     },
     "e1d8c96db7f2484fa16cca0af90381ff": {
      "model_module": "@jupyter-widgets/controls",
      "model_module_version": "1.5.0",
      "model_name": "ButtonModel",
      "state": {
       "description": "Wyczysc",
       "layout": "IPY_MODEL_888be0dbf5ad47dd95c0eb599ecb85a9",
       "style": "IPY_MODEL_769df1aeccd049029a1cf9d9d76034ec"
      }
     },
     "e1fe2f6d87fb45248c96ffd6f6fbb0ac": {
      "model_module": "@jupyter-widgets/controls",
      "model_module_version": "1.5.0",
      "model_name": "SliderStyleModel",
      "state": {
       "description_width": ""
      }
     },
     "e2964d25b4554cfb9fe6efb81dcb8fb8": {
      "model_module": "@jupyter-widgets/controls",
      "model_module_version": "1.5.0",
      "model_name": "IntSliderModel",
      "state": {
       "description": "Ilosc osob:",
       "layout": "IPY_MODEL_ec97581401df439296329a76a8988cd6",
       "max": 10,
       "style": "IPY_MODEL_4a8a71e8b2a24605b70c9e6d69c08bcd",
       "value": 2
      }
     },
     "e29f20e1a61c4faca60ce3d45f8dfb9f": {
      "model_module": "@jupyter-widgets/base",
      "model_module_version": "1.2.0",
      "model_name": "LayoutModel",
      "state": {}
     },
     "e36928b06b2a4f269cd415fbf8147825": {
      "model_module": "@jupyter-widgets/controls",
      "model_module_version": "1.5.0",
      "model_name": "IntSliderModel",
      "state": {
       "description": "Ilosc osob:",
       "layout": "IPY_MODEL_0c55b152f3ad44db911679119178529b",
       "style": "IPY_MODEL_7c7498d1a6d74102b7263957bb4bb8ce",
       "value": 10
      }
     },
     "e3c202a9c7f74633a7d62dc95795d4d3": {
      "model_module": "@jupyter-widgets/controls",
      "model_module_version": "1.5.0",
      "model_name": "IntSliderModel",
      "state": {
       "description": "Ilosc osob:",
       "layout": "IPY_MODEL_7c49535e931e4d26a1386097ae0b42b3",
       "style": "IPY_MODEL_b74f18883c3349db9d1c0e540a5a5bef",
       "value": 10
      }
     },
     "e3e1bf2fd2e446ff9ca1d01d42ddd27d": {
      "model_module": "@jupyter-widgets/controls",
      "model_module_version": "1.5.0",
      "model_name": "IntSliderModel",
      "state": {
       "description": "Ilosc osob:",
       "layout": "IPY_MODEL_db65b1db1f3649268a55a6932f32216b",
       "max": 10,
       "style": "IPY_MODEL_615c475d0ef24d1a8b570b5e6bc0993c",
       "value": 3
      }
     },
     "e42db9be95a54bed8db2e35eccc354e3": {
      "model_module": "@jupyter-widgets/controls",
      "model_module_version": "1.5.0",
      "model_name": "IntSliderModel",
      "state": {
       "description": "Slider:",
       "layout": "IPY_MODEL_c9643794076648d3868b5ac19f0c774a",
       "max": 10,
       "style": "IPY_MODEL_5f3cc5fa294146ee8185a202f4e21322"
      }
     },
     "e44935dac2594cb6912e7401709860a1": {
      "model_module": "@jupyter-widgets/controls",
      "model_module_version": "1.5.0",
      "model_name": "ButtonStyleModel",
      "state": {}
     },
     "e58ec3a583fb4fa09c40430578634b8d": {
      "model_module": "@jupyter-widgets/base",
      "model_module_version": "1.2.0",
      "model_name": "LayoutModel",
      "state": {}
     },
     "e724161a284d4bf3b325088e06f3dae2": {
      "model_module": "@jupyter-widgets/controls",
      "model_module_version": "1.5.0",
      "model_name": "SliderStyleModel",
      "state": {
       "description_width": ""
      }
     },
     "e727d8b7f77947b7be05ace733fe3415": {
      "model_module": "@jupyter-widgets/controls",
      "model_module_version": "1.5.0",
      "model_name": "ButtonStyleModel",
      "state": {}
     },
     "e8178f581a524c4f8d45bfe081b1ad29": {
      "model_module": "@jupyter-widgets/controls",
      "model_module_version": "1.5.0",
      "model_name": "ButtonModel",
      "state": {
       "description": "Symulacja",
       "layout": "IPY_MODEL_8b18d0a70c87430bbfafd1d8d8d3ed0a",
       "style": "IPY_MODEL_3a2a88ed184749babcbfdfd11e023050"
      }
     },
     "e8733d342c884341903c45da151f1fd2": {
      "model_module": "@jupyter-widgets/controls",
      "model_module_version": "1.5.0",
      "model_name": "ButtonStyleModel",
      "state": {}
     },
     "e8e6e81ac836457ebb27605d9493bc24": {
      "model_module": "@jupyter-widgets/base",
      "model_module_version": "1.2.0",
      "model_name": "LayoutModel",
      "state": {}
     },
     "eb43f5d57fe1489a87c7184f62589bb9": {
      "model_module": "@jupyter-widgets/controls",
      "model_module_version": "1.5.0",
      "model_name": "SliderStyleModel",
      "state": {
       "description_width": ""
      }
     },
     "ec6a01502ff94892a23b3e68058ddfaf": {
      "model_module": "@jupyter-widgets/controls",
      "model_module_version": "1.5.0",
      "model_name": "ButtonModel",
      "state": {
       "description": "Symulacja",
       "layout": "IPY_MODEL_d7cc18fae6984d66a810ea5140364caa",
       "style": "IPY_MODEL_d9cca4b1e82d444ab7cda5c01d0dde96"
      }
     },
     "ec8af51e604f45dabebfa7fcbdb2158f": {
      "model_module": "@jupyter-widgets/base",
      "model_module_version": "1.2.0",
      "model_name": "LayoutModel",
      "state": {}
     },
     "ec97581401df439296329a76a8988cd6": {
      "model_module": "@jupyter-widgets/base",
      "model_module_version": "1.2.0",
      "model_name": "LayoutModel",
      "state": {}
     },
     "ecf5ed4923ce4d4ab5e95461ef4d1fe6": {
      "model_module": "@jupyter-widgets/controls",
      "model_module_version": "1.5.0",
      "model_name": "ButtonModel",
      "state": {
       "description": "Symulacja",
       "layout": "IPY_MODEL_c99a553e5d174592be913a96753994aa",
       "style": "IPY_MODEL_939433da02014f3da9efecc11677a3b0"
      }
     },
     "eeaa58abdc564c9d98b79c6f50bc1835": {
      "model_module": "@jupyter-widgets/controls",
      "model_module_version": "1.5.0",
      "model_name": "IntSliderModel",
      "state": {
       "description": "Ilosc osob:",
       "layout": "IPY_MODEL_ac2fe4cc478643a9a68a9655b0472210",
       "style": "IPY_MODEL_099b9462bf71452bab0ddaa0134d65fd",
       "value": 4
      }
     },
     "ef28bd47b1d9479f924e51347e1a80e1": {
      "model_module": "@jupyter-widgets/controls",
      "model_module_version": "1.5.0",
      "model_name": "IntSliderModel",
      "state": {
       "description": "Ilosc osob:",
       "layout": "IPY_MODEL_79baa4e183de4b8f8104fa446f406328",
       "style": "IPY_MODEL_4435682a810744829865cd11e6925e11"
      }
     },
     "ef33b1f90d0f47a7982518ee490c5389": {
      "model_module": "@jupyter-widgets/controls",
      "model_module_version": "1.5.0",
      "model_name": "ButtonModel",
      "state": {
       "description": "Symulacja",
       "layout": "IPY_MODEL_85e005375cad44119d3e7199b92438a0",
       "style": "IPY_MODEL_cf8a261c808b45ef928bbb8e93916818"
      }
     },
     "ef3f3b6e16f24456a38a22ad42479f41": {
      "model_module": "@jupyter-widgets/controls",
      "model_module_version": "1.5.0",
      "model_name": "ButtonModel",
      "state": {
       "description": "Wyczysc",
       "layout": "IPY_MODEL_e29f20e1a61c4faca60ce3d45f8dfb9f",
       "style": "IPY_MODEL_d9882527f1524d6ab3814770baa3a72e"
      }
     },
     "f099f161737e4636b5f8da3d5ecee6d4": {
      "model_module": "@jupyter-widgets/base",
      "model_module_version": "1.2.0",
      "model_name": "LayoutModel",
      "state": {}
     },
     "f115d49c74b9471681c582dca2738828": {
      "model_module": "@jupyter-widgets/controls",
      "model_module_version": "1.5.0",
      "model_name": "ButtonModel",
      "state": {
       "description": "Symulacja",
       "layout": "IPY_MODEL_0869730df5814e3bb9ef99f96786d749",
       "style": "IPY_MODEL_cda5ac412c2a4402886cf92796d6151d"
      }
     },
     "f123fc040b814d918e9c37c1814a3f19": {
      "model_module": "@jupyter-widgets/controls",
      "model_module_version": "1.5.0",
      "model_name": "IntSliderModel",
      "state": {
       "description": "Ilosc osob:",
       "layout": "IPY_MODEL_bb69304430ad49ddb206d0a0c3da432a",
       "style": "IPY_MODEL_a2a54ea88958420585dedc9bd4df7cfb",
       "value": 10
      }
     },
     "f147fc996b854d67b6f432282d3716db": {
      "model_module": "@jupyter-widgets/controls",
      "model_module_version": "1.5.0",
      "model_name": "ButtonModel",
      "state": {
       "description": "Wyczysc",
       "layout": "IPY_MODEL_99a1b74e9bb847d792404b36d3346983",
       "style": "IPY_MODEL_357413f67578430da949515636682d6b"
      }
     },
     "f1d1cc18a668465da082ac4f60a34e46": {
      "model_module": "@jupyter-widgets/controls",
      "model_module_version": "1.5.0",
      "model_name": "ButtonStyleModel",
      "state": {}
     },
     "f23195e633cd4efaa5709fc25a25d5c0": {
      "model_module": "@jupyter-widgets/controls",
      "model_module_version": "1.5.0",
      "model_name": "ButtonModel",
      "state": {
       "description": "Symulacja",
       "layout": "IPY_MODEL_6d257118129d4dd095c6cd9ef8063421",
       "style": "IPY_MODEL_e8733d342c884341903c45da151f1fd2"
      }
     },
     "f2329c186c734a9f8d1d3684885da40c": {
      "model_module": "@jupyter-widgets/base",
      "model_module_version": "1.2.0",
      "model_name": "LayoutModel",
      "state": {}
     },
     "f25db9efe79041a381884c58ddc1ade9": {
      "model_module": "@jupyter-widgets/controls",
      "model_module_version": "1.5.0",
      "model_name": "SliderStyleModel",
      "state": {
       "description_width": ""
      }
     },
     "f329b86136504ef99d9771835c455a37": {
      "model_module": "@jupyter-widgets/controls",
      "model_module_version": "1.5.0",
      "model_name": "ButtonModel",
      "state": {
       "description": "Symulacja",
       "layout": "IPY_MODEL_b2703f1174004247b5c59f09a891dcdb",
       "style": "IPY_MODEL_65bd5dba84164fca8ae8836f68b0c88b"
      }
     },
     "f3c9568f6c4f4847899a944cb104af54": {
      "model_module": "@jupyter-widgets/controls",
      "model_module_version": "1.5.0",
      "model_name": "SliderStyleModel",
      "state": {
       "description_width": ""
      }
     },
     "f3e19da3d97147b6af1ec8970645d89d": {
      "model_module": "@jupyter-widgets/controls",
      "model_module_version": "1.5.0",
      "model_name": "SliderStyleModel",
      "state": {
       "description_width": ""
      }
     },
     "f4d2ef8ad3734e99ad422891357d7957": {
      "model_module": "@jupyter-widgets/controls",
      "model_module_version": "1.5.0",
      "model_name": "ButtonModel",
      "state": {
       "description": "Symulacja",
       "layout": "IPY_MODEL_cc22b866cbb0407781206871308b3a2f",
       "style": "IPY_MODEL_8f340ebab0fa46a3a7d21ff12802ce57"
      }
     },
     "f5accba4f879435a85ce82c917e349ba": {
      "model_module": "@jupyter-widgets/base",
      "model_module_version": "1.2.0",
      "model_name": "LayoutModel",
      "state": {}
     },
     "f61d7ad05b054b5485391e96b3fc3212": {
      "model_module": "@jupyter-widgets/controls",
      "model_module_version": "1.5.0",
      "model_name": "ButtonStyleModel",
      "state": {}
     },
     "f6f11e667a104c979f1660774574b321": {
      "model_module": "@jupyter-widgets/controls",
      "model_module_version": "1.5.0",
      "model_name": "ButtonModel",
      "state": {
       "description": "Symulacja",
       "layout": "IPY_MODEL_b7981480680d44669787011bb3ff8754",
       "style": "IPY_MODEL_e11c22f36d07409299cfb510a11337f2"
      }
     },
     "f70e3d6af0fc4704a3de98d7cba7a15d": {
      "model_module": "@jupyter-widgets/base",
      "model_module_version": "1.2.0",
      "model_name": "LayoutModel",
      "state": {}
     },
     "f78f2a164dfa4eab8cdc8469cb5f32d1": {
      "model_module": "@jupyter-widgets/base",
      "model_module_version": "1.2.0",
      "model_name": "LayoutModel",
      "state": {}
     },
     "f7e6d2d1fd8248b0984872198b535194": {
      "model_module": "@jupyter-widgets/base",
      "model_module_version": "1.2.0",
      "model_name": "LayoutModel",
      "state": {}
     },
     "f7f1ade0f328481faf7360e242b94a23": {
      "model_module": "@jupyter-widgets/controls",
      "model_module_version": "1.5.0",
      "model_name": "SliderStyleModel",
      "state": {
       "description_width": ""
      }
     },
     "f8f56cd3c65247709e8d29728e84be84": {
      "model_module": "@jupyter-widgets/base",
      "model_module_version": "1.2.0",
      "model_name": "LayoutModel",
      "state": {}
     },
     "f9d805b541cb4698a77302ee137b6611": {
      "model_module": "@jupyter-widgets/controls",
      "model_module_version": "1.5.0",
      "model_name": "ButtonStyleModel",
      "state": {}
     },
     "fddf9c94ab1c4fbcb937ef8a8d7a85ca": {
      "model_module": "@jupyter-widgets/controls",
      "model_module_version": "1.5.0",
      "model_name": "IntSliderModel",
      "state": {
       "description": "Ilosc osob:",
       "layout": "IPY_MODEL_104c14eddbc843dc9f52cb82e1b1eacb",
       "style": "IPY_MODEL_f25db9efe79041a381884c58ddc1ade9",
       "value": 10
      }
     },
     "fe54d43c076d42f1b27f41edb2a851f2": {
      "model_module": "@jupyter-widgets/controls",
      "model_module_version": "1.5.0",
      "model_name": "ButtonStyleModel",
      "state": {}
     },
     "ff0a1a6d0ad54c27982941c1f32f92e7": {
      "model_module": "@jupyter-widgets/controls",
      "model_module_version": "1.5.0",
      "model_name": "SliderStyleModel",
      "state": {
       "description_width": ""
      }
     },
     "ff265b61cde240caa10929e6069cc376": {
      "model_module": "@jupyter-widgets/base",
      "model_module_version": "1.2.0",
      "model_name": "LayoutModel",
      "state": {}
     }
    },
    "version_major": 2,
    "version_minor": 0
   }
  }
 },
 "nbformat": 4,
 "nbformat_minor": 2
}
